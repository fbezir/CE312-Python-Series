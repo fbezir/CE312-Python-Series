{
 "cells": [
  {
   "cell_type": "code",
   "execution_count": 4,
   "metadata": {},
   "outputs": [
    {
     "name": "stdout",
     "output_type": "stream",
     "text": [
      "hello world\n",
      "thisismyfirstpythoncode\n"
     ]
    }
   ],
   "source": [
    "print(\"hello world\")\n",
    "f1 = \"this\"\n",
    "f2 = \"is\"\n",
    "f3 = \"my\"\n",
    "f4 = \"first\"\n",
    "f5 = \"python\"\n",
    "f6= \"code\"\n",
    "print(f1+f2+f3+f4+f5+f6)"
   ]
  },
  {
   "cell_type": "code",
   "execution_count": 5,
   "metadata": {},
   "outputs": [
    {
     "name": "stdout",
     "output_type": "stream",
     "text": [
      "this is my first python code\n"
     ]
    }
   ],
   "source": [
    "print(f1 + ' ' + f2 + ' ' + f3 + ' '+ f4 + ' ' + f5 + ' ' + f6)"
   ]
  },
  {
   "cell_type": "markdown",
   "metadata": {},
   "source": [
    "### Exercise1"
   ]
  },
  {
   "cell_type": "code",
   "execution_count": 9,
   "metadata": {},
   "outputs": [
    {
     "name": "stdout",
     "output_type": "stream",
     "text": [
      "Total price of gasoline is 1078.0 tl\n",
      "Total price of marmaray is 114.4 tl\n"
     ]
    }
   ],
   "source": [
    "#variables\n",
    "\n",
    "price_marmaray = 2.6 #tl/day\n",
    "price_gasoline = 0.7 #tl/km\n",
    "day_school = 22 #day\n",
    "length_homeschool = 35 #km\n",
    "\n",
    "total_price_marmaray = 2 * price_marmaray * day_school  \n",
    "total_price_gasoline = 2 * price_gasoline * length_homeschool  * day_school\n",
    "\n",
    "print(f'Total price of gasoline is {total_price_gasoline} tl')\n",
    "print(f'Total price of marmaray is {total_price_marmaray} tl')\n"
   ]
  },
  {
   "cell_type": "code",
   "execution_count": 2,
   "metadata": {},
   "outputs": [
    {
     "name": "stdout",
     "output_type": "stream",
     "text": [
      "963.6\n"
     ]
    }
   ],
   "source": [
    "difference_bw_marmaray_gasoline =abs( total_price_gasoline - total_price_marmaray )\n",
    "print(difference_bw_marmaraygasoline)"
   ]
  },
  {
   "cell_type": "code",
   "execution_count": 7,
   "metadata": {},
   "outputs": [
    {
     "name": "stdout",
     "output_type": "stream",
     "text": [
      "what's your name? Fırat\n",
      "Welcome Fırat to our website\n"
     ]
    }
   ],
   "source": [
    "name = input(\"what's your name? \")\n",
    "if len(name) > 5:\n",
    "    print('chose a short name yourself')\n",
    "else:\n",
    "    print(f'Welcome {name} to our website')"
   ]
  },
  {
   "cell_type": "code",
   "execution_count": null,
   "metadata": {},
   "outputs": [],
   "source": []
  }
 ],
 "metadata": {
  "kernelspec": {
   "display_name": "Python 3",
   "language": "python",
   "name": "python3"
  },
  "language_info": {
   "codemirror_mode": {
    "name": "ipython",
    "version": 3
   },
   "file_extension": ".py",
   "mimetype": "text/x-python",
   "name": "python",
   "nbconvert_exporter": "python",
   "pygments_lexer": "ipython3",
   "version": "3.6.8"
  }
 },
 "nbformat": 4,
 "nbformat_minor": 2
}
